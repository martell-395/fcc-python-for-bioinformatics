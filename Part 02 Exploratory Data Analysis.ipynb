{
 "cells": [
  {
   "cell_type": "code",
   "execution_count": null,
   "metadata": {},
   "outputs": [],
   "source": [
    "# Helpful Links\n",
    "Tutorial provided by Professor Chanin Nantasenamat. \n",
    "\n",
    "[Data Professor YouTube Channel](https://www.youtube.com/dataprofessor/)\n",
    "\n",
    "[Link to YouTube Tutorial](https://www.youtube.com/watch?v=jBlTQjcKuaY&t=640s)\n",
    "\n",
    "\n",
    "*First modified: 21 May 2022*\n",
    "\n",
    "*Last modified:* \t"
   ]
  }
 ],
 "metadata": {
  "language_info": {
   "name": "python"
  },
  "orig_nbformat": 4
 },
 "nbformat": 4,
 "nbformat_minor": 2
}
