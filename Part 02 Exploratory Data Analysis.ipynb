{
 "cells": [
  {
   "cell_type": "markdown",
   "metadata": {},
   "source": [
    "# Helpful Links\n",
    "Tutorial provided by Professor Chanin Nantasenamat. \n",
    "\n",
    "[Data Professor YouTube Channel](https://www.youtube.com/dataprofessor/)\n",
    "\n",
    "[Link to YouTube Tutorial](https://www.youtube.com/watch?v=jBlTQjcKuaY&t=640s)\n",
    "\n",
    "\n",
    "*First modified: 21 May 2022*\n",
    "\n",
    "*Last modified:* \t"
   ]
  },
  {
   "cell_type": "markdown",
   "metadata": {},
   "source": [
    "## Installing libraries\n",
    "Install the ChEMBL web service package so data can be retrieved from the database.\n",
    "\n",
    "Set up a venv on Windows + VSCode using [this tutorial](https://www.youtube.com/watch?v=fBBAGXjg2fk) by [42technoman](https://www.youtube.com/c/42technoman).\n",
    "\n",
    "        # initialise a virtual environment\n",
    "        python -m venv newname\n",
    "        # cd into the new directory\n",
    "        # launch vscode \n",
    "        code .\n",
    "        # activate the venv\n",
    "        # cd into Scripts\n",
    "        ./activate\n",
    "\n",
    "Run the following command in the terminal:\n",
    "\n",
    "        pip3 install chembl_webresource_client\n",
    "        pip3 install pandas"
   ]
  },
  {
   "cell_type": "code",
   "execution_count": null,
   "metadata": {},
   "outputs": [],
   "source": []
  }
 ],
 "metadata": {
  "interpreter": {
   "hash": "a2ce82b43e2f7f095a09b5668b2dcb3e5ed43a0727aa79e11546894090a7c05a"
  },
  "kernelspec": {
   "display_name": "Python 3.9.6 ('May_2022_venv': venv)",
   "language": "python",
   "name": "python3"
  },
  "language_info": {
   "codemirror_mode": {
    "name": "ipython",
    "version": 3
   },
   "file_extension": ".py",
   "mimetype": "text/x-python",
   "name": "python",
   "nbconvert_exporter": "python",
   "pygments_lexer": "ipython3",
   "version": "3.9.6"
  },
  "orig_nbformat": 4
 },
 "nbformat": 4,
 "nbformat_minor": 2
}
