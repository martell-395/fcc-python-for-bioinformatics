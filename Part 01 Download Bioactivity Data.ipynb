{
 "cells": [
  {
   "cell_type": "markdown",
   "metadata": {},
   "source": [
    "# Helpful Links\n",
    "Tutorial provided by Professor Chanin Nantasenamat. \n",
    "\n",
    "[Data Professor YouTube Channel](https://www.youtube.com/dataprofessor/)\n",
    "\n",
    "[Link to YouTube Tutorial](https://www.youtube.com/watch?v=jBlTQjcKuaY&t=640s)\n",
    "\n",
    "\n",
    "*First modified: 20 May 2022*\n",
    "\n",
    "*Last modified:* \t\n",
    "\n",
    "*copyright (c) 2022 - Samantha Martell*\n",
    "\n"
   ]
  },
  {
   "cell_type": "markdown",
   "metadata": {},
   "source": [
    "# Background\n",
    "Aim: exploratory data analysis and build a machine learning model to gain data-driven insights to be used in drug discovery. "
   ]
  },
  {
   "cell_type": "markdown",
   "metadata": {},
   "source": [
    "# Data Collection\n",
    "The \"molecular solubility value\" is important physoio-chemical property of chemicals that describes to what extent they can be solubilised in water. \n",
    "\n",
    "First, must retrieve data from the [ChEMBL database](https://www.ebi.ac.uk/chembl/)."
   ]
  },
  {
   "cell_type": "markdown",
   "metadata": {},
   "source": [
    "## Virtual Environment Set Up\n",
    "        python -m venv new-env\n",
    "        new-env\\Scripts\\activate.bat\n",
    "        import sys\n",
    "        sys.path"
   ]
  },
  {
   "cell_type": "markdown",
   "metadata": {},
   "source": [
    "## Installing libraries\n",
    "Install the ChEMBL web service package so data can be retrieved from the database.\n",
    "\n",
    "Set up a venv on Windows + VSCode using [this tutorial](https://www.youtube.com/watch?v=fBBAGXjg2fk) by [42technoman](https://www.youtube.com/c/42technoman).\n",
    "\n",
    "Run the following command in the terminal:\n",
    "\n",
    "        pip3 install chembl_webresource_client"
   ]
  },
  {
   "cell_type": "code",
   "execution_count": 3,
   "metadata": {},
   "outputs": [],
   "source": [
    "# Import necessary libraries\n",
    "import pandas as pd\n",
    "from chembl_webresource_client.new_client import new_client"
   ]
  },
  {
   "cell_type": "code",
   "execution_count": null,
   "metadata": {},
   "outputs": [],
   "source": []
  }
 ],
 "metadata": {
  "interpreter": {
   "hash": "2a93a24dae7a802a1e35964fc67e2039bdde26a65121aa830f7de305033e13fb"
  },
  "kernelspec": {
   "display_name": "Python 3.9.6 64-bit",
   "language": "python",
   "name": "python3"
  },
  "language_info": {
   "codemirror_mode": {
    "name": "ipython",
    "version": 3
   },
   "file_extension": ".py",
   "mimetype": "text/x-python",
   "name": "python",
   "nbconvert_exporter": "python",
   "pygments_lexer": "ipython3",
   "version": "3.9.6"
  },
  "orig_nbformat": 4
 },
 "nbformat": 4,
 "nbformat_minor": 2
}
