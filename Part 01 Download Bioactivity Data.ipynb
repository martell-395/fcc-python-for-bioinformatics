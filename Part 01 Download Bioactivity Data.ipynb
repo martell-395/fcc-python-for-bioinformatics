{
 "cells": [
  {
   "cell_type": "markdown",
   "metadata": {},
   "source": [
    "# Helpful Links\n",
    "Tutorial provided by Professor Chanin Nantasenamat. \n",
    "\n",
    "[Data Professor YouTube Channel](https://www.youtube.com/dataprofessor/)\n",
    "\n",
    "[Link to YouTube Tutorial](https://www.youtube.com/watch?v=jBlTQjcKuaY&t=640s)\n",
    "\n",
    "\n",
    "*First modified: 20 May 2022*\n",
    "\n",
    "*Last modified:* \t\n",
    "\n",
    "*copyright (c) 2022 - Samantha Martell*\n",
    "\n"
   ]
  },
  {
   "cell_type": "markdown",
   "metadata": {},
   "source": [
    "# Background\n",
    "Aim: exploratory data analysis and build a machine learning model to gain data-driven insights to be used in drug discovery. "
   ]
  },
  {
   "cell_type": "markdown",
   "metadata": {},
   "source": [
    "# Data Collection\n",
    "The \"molecular solubility value\" is important physoio-chemical property of chemicals that describes to what extent they can be solubilised in water. \n",
    "\n",
    "First, must retrieve data from the [ChEMBL database](https://www.ebi.ac.uk/chembl/)."
   ]
  },
  {
   "cell_type": "markdown",
   "metadata": {},
   "source": [
    "## Virtual Environment Set Up\n",
    "        python -m venv new-env\n",
    "        new-env\\Scripts\\activate.bat\n",
    "        import sys\n",
    "        sys.path"
   ]
  },
  {
   "cell_type": "markdown",
   "metadata": {},
   "source": [
    "## Installing libraries\n",
    "Install the ChEMBL web service package so data can be retrieved from the database."
   ]
  },
  {
   "cell_type": "code",
   "execution_count": 3,
   "metadata": {},
   "outputs": [
    {
     "name": "stdout",
     "output_type": "stream",
     "text": [
      "Collecting chembl_webresource_client\n",
      "  Using cached chembl_webresource_client-0.10.8-py3-none-any.whl (55 kB)\n",
      "Requirement already satisfied: urllib3 in c:\\users\\samma\\miniconda3\\lib\\site-packages (from chembl_webresource_client) (1.26.6)\n",
      "Requirement already satisfied: requests>=2.18.4 in c:\\users\\samma\\miniconda3\\lib\\site-packages (from chembl_webresource_client) (2.25.1)\n",
      "Requirement already satisfied: requests-cache~=0.7.0 in c:\\users\\samma\\miniconda3\\lib\\site-packages (from chembl_webresource_client) (0.7.5)\n",
      "Requirement already satisfied: easydict in c:\\users\\samma\\miniconda3\\lib\\site-packages (from chembl_webresource_client) (1.9)\n",
      "Requirement already satisfied: certifi>=2017.4.17 in c:\\users\\samma\\miniconda3\\lib\\site-packages (from requests>=2.18.4->chembl_webresource_client) (2021.5.30)\n",
      "Requirement already satisfied: chardet<5,>=3.0.2 in c:\\users\\samma\\miniconda3\\lib\\site-packages (from requests>=2.18.4->chembl_webresource_client) (4.0.0)\n",
      "Requirement already satisfied: idna<3,>=2.5 in c:\\users\\samma\\miniconda3\\lib\\site-packages (from requests>=2.18.4->chembl_webresource_client) (2.10)\n",
      "Requirement already satisfied: url-normalize<2.0,>=1.4 in c:\\users\\samma\\miniconda3\\lib\\site-packages (from requests-cache~=0.7.0->chembl_webresource_client) (1.4.3)\n",
      "Requirement already satisfied: itsdangerous>=2.0.1 in c:\\users\\samma\\miniconda3\\lib\\site-packages (from requests-cache~=0.7.0->chembl_webresource_client) (2.1.2)\n",
      "Requirement already satisfied: attrs<22.0,>=21.2 in c:\\users\\samma\\miniconda3\\lib\\site-packages (from requests-cache~=0.7.0->chembl_webresource_client) (21.4.0)\n",
      "Requirement already satisfied: pyyaml>=5.4 in c:\\users\\samma\\miniconda3\\lib\\site-packages (from requests-cache~=0.7.0->chembl_webresource_client) (6.0)\n",
      "Requirement already satisfied: six in c:\\users\\samma\\miniconda3\\lib\\site-packages (from url-normalize<2.0,>=1.4->requests-cache~=0.7.0->chembl_webresource_client) (1.16.0)\n",
      "Installing collected packages: chembl-webresource-client\n",
      "Successfully installed chembl-webresource-client-0.10.8\n"
     ]
    }
   ],
   "source": [
    "! pip3 install chembl_webresource_client\n",
    "\n",
    "# ! pip install pyopenssl\n",
    "# ! pip install ndg-httpsclient\n",
    "# ! pip install pyasn1"
   ]
  },
  {
   "cell_type": "code",
   "execution_count": null,
   "metadata": {},
   "outputs": [
    {
     "ename": "",
     "evalue": "",
     "output_type": "error",
     "traceback": [
      "\u001b[1;31mThe kernel failed to start due to the missing module 'jupyter_client'. Consider installing this module.\n",
      "Click <a href='https://aka.ms/kernelFailuresMissingModule'>here</a> for more info."
     ]
    }
   ],
   "source": [
    "import pandas as pd\n",
    "from chembl_webresource_client.new_client import new_client"
   ]
  },
  {
   "cell_type": "code",
   "execution_count": null,
   "metadata": {},
   "outputs": [],
   "source": []
  }
 ],
 "metadata": {
  "interpreter": {
   "hash": "2a93a24dae7a802a1e35964fc67e2039bdde26a65121aa830f7de305033e13fb"
  },
  "kernelspec": {
   "display_name": "Python 3.9.6 64-bit",
   "language": "python",
   "name": "python3"
  },
  "language_info": {
   "codemirror_mode": {
    "name": "ipython",
    "version": 3
   },
   "file_extension": ".py",
   "mimetype": "text/x-python",
   "name": "python",
   "nbconvert_exporter": "python",
   "pygments_lexer": "ipython3",
   "version": "3.9.6"
  },
  "orig_nbformat": 4
 },
 "nbformat": 4,
 "nbformat_minor": 2
}
